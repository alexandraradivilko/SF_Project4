{
 "cells": [
  {
   "cell_type": "markdown",
   "id": "6505b519",
   "metadata": {},
   "source": [
    "### ЦЕЛЬ\n",
    "Подготовить основу рекомендательной системы."
   ]
  },
  {
   "cell_type": "markdown",
   "id": "d97aa3ce",
   "metadata": {},
   "source": [
    "### ЗАДАЧИ\n",
    "1. Составить таблицу, в которой курсам будет соответствовать по две рекомендации. То есть таблица должна иметь три столбца:\n",
    "\n",
    " - Курс, к которому идёт рекомендация. \n",
    " - Курс для рекомендации № 1 (самый популярный).\n",
    " - Курс для рекомендации № 2 (второй по популярности).\n",
    "\n",
    "\n",
    "2. Анализ результатов A/B-теста после внедрения таблицы с рекомендацией \n",
    "\n"
   ]
  },
  {
   "cell_type": "code",
   "execution_count": 1,
   "id": "2f29f1b4",
   "metadata": {},
   "outputs": [],
   "source": [
    "# иморт пакетов\n",
    "from scipy.stats import norm\n",
    "import math \n",
    "from scipy.stats import t\n",
    "import numpy as np\n",
    "import pandas as pd\n",
    "import matplotlib.pyplot as plt\n",
    "import itertools\n",
    "import psycopg2\n",
    "import psycopg2.extras\n",
    "import seaborn as sns"
   ]
  },
  {
   "cell_type": "code",
   "execution_count": 2,
   "id": "bb6ac21a",
   "metadata": {},
   "outputs": [],
   "source": [
    "# подключаемся БД skillfactory и импортируем сгруппированную таблицу с покупками пользователей\n",
    "def getmore_than_one():\n",
    "    query = '''WITH more_than_one  AS\n",
    "(\n",
    "SELECT \n",
    "    carts.user_id,\n",
    "    count (items.resource_id)\n",
    "FROM final.cart_items  AS  items\n",
    "    JOIN final.carts ON items.cart_id = carts.id\n",
    "WHERE resource_type = 'Course' AND state = 'successful' \n",
    "GROUP BY 1\n",
    "HAVING count (distinct items.resource_id) > 1\n",
    ")\n",
    "SELECT \n",
    "    distinct more_than_one.user_id,\n",
    "    items.resource_id\n",
    "FROM more_than_one\n",
    "    JOIN final.carts ON more_than_one.user_id = carts.user_id\n",
    "    JOIN final.cart_items  AS items ON items.cart_id = carts.id\n",
    "    WHERE resource_type = 'Course' AND state = 'successful'\n",
    "ORDER BY 1,2'''.format()\n",
    "    conn = psycopg2.connect(\"dbname='skillfactory' user='skillfactory' host='84.201.134.129' password='cCkxxLVrDE8EbvjueeMedPKt' port=5432\")\n",
    "    dict_cur = conn.cursor(cursor_factory=psycopg2.extras.DictCursor)\n",
    "    dict_cur.execute(query)\n",
    "    rows = dict_cur.fetchall()\n",
    "    data = []\n",
    "    for row in rows:\n",
    "        data.append(dict(row))\n",
    "    return data\n",
    "df = pd.DataFrame(getmore_than_one())"
   ]
  },
  {
   "cell_type": "code",
   "execution_count": 3,
   "id": "551f2df3",
   "metadata": {},
   "outputs": [
    {
     "data": {
      "text/html": [
       "<div>\n",
       "<style scoped>\n",
       "    .dataframe tbody tr th:only-of-type {\n",
       "        vertical-align: middle;\n",
       "    }\n",
       "\n",
       "    .dataframe tbody tr th {\n",
       "        vertical-align: top;\n",
       "    }\n",
       "\n",
       "    .dataframe thead th {\n",
       "        text-align: right;\n",
       "    }\n",
       "</style>\n",
       "<table border=\"1\" class=\"dataframe\">\n",
       "  <thead>\n",
       "    <tr style=\"text-align: right;\">\n",
       "      <th></th>\n",
       "      <th>user_id</th>\n",
       "      <th>resource_id</th>\n",
       "    </tr>\n",
       "  </thead>\n",
       "  <tbody>\n",
       "    <tr>\n",
       "      <th>0</th>\n",
       "      <td>51</td>\n",
       "      <td>[516, 1099]</td>\n",
       "    </tr>\n",
       "    <tr>\n",
       "      <th>1</th>\n",
       "      <td>6117</td>\n",
       "      <td>[356, 357, 1125]</td>\n",
       "    </tr>\n",
       "    <tr>\n",
       "      <th>2</th>\n",
       "      <td>10275</td>\n",
       "      <td>[553, 1147]</td>\n",
       "    </tr>\n",
       "    <tr>\n",
       "      <th>3</th>\n",
       "      <td>10457</td>\n",
       "      <td>[361, 1138]</td>\n",
       "    </tr>\n",
       "    <tr>\n",
       "      <th>4</th>\n",
       "      <td>17166</td>\n",
       "      <td>[356, 357]</td>\n",
       "    </tr>\n",
       "  </tbody>\n",
       "</table>\n",
       "</div>"
      ],
      "text/plain": [
       "   user_id       resource_id\n",
       "0       51       [516, 1099]\n",
       "1     6117  [356, 357, 1125]\n",
       "2    10275       [553, 1147]\n",
       "3    10457       [361, 1138]\n",
       "4    17166        [356, 357]"
      ]
     },
     "execution_count": 3,
     "metadata": {},
     "output_type": "execute_result"
    }
   ],
   "source": [
    "# составляем таблицу по пользователям и спискам их курсов\n",
    "course_lists= df.groupby(['user_id'])['resource_id'].apply(lambda x:list(np.unique(x))).reset_index()\n",
    "course_lists.head()"
   ]
  },
  {
   "cell_type": "code",
   "execution_count": 4,
   "id": "03bc2cfb",
   "metadata": {},
   "outputs": [],
   "source": [
    "# составляем таблицу по курсам и количеству покупок этого курса\n",
    "purchase_cnt_per_one = df.groupby(['resource_id'])['user_id'].count().reset_index()"
   ]
  },
  {
   "cell_type": "code",
   "execution_count": 5,
   "id": "b96bc082",
   "metadata": {},
   "outputs": [
    {
     "data": {
      "text/html": [
       "<div>\n",
       "<style scoped>\n",
       "    .dataframe tbody tr th:only-of-type {\n",
       "        vertical-align: middle;\n",
       "    }\n",
       "\n",
       "    .dataframe tbody tr th {\n",
       "        vertical-align: top;\n",
       "    }\n",
       "\n",
       "    .dataframe thead th {\n",
       "        text-align: right;\n",
       "    }\n",
       "</style>\n",
       "<table border=\"1\" class=\"dataframe\">\n",
       "  <thead>\n",
       "    <tr style=\"text-align: right;\">\n",
       "      <th></th>\n",
       "      <th>course</th>\n",
       "      <th>purchases</th>\n",
       "    </tr>\n",
       "  </thead>\n",
       "  <tbody>\n",
       "    <tr>\n",
       "      <th>0</th>\n",
       "      <td>356</td>\n",
       "      <td>351</td>\n",
       "    </tr>\n",
       "    <tr>\n",
       "      <th>1</th>\n",
       "      <td>357</td>\n",
       "      <td>360</td>\n",
       "    </tr>\n",
       "    <tr>\n",
       "      <th>2</th>\n",
       "      <td>358</td>\n",
       "      <td>76</td>\n",
       "    </tr>\n",
       "    <tr>\n",
       "      <th>3</th>\n",
       "      <td>359</td>\n",
       "      <td>57</td>\n",
       "    </tr>\n",
       "    <tr>\n",
       "      <th>4</th>\n",
       "      <td>360</td>\n",
       "      <td>43</td>\n",
       "    </tr>\n",
       "  </tbody>\n",
       "</table>\n",
       "</div>"
      ],
      "text/plain": [
       "   course  purchases\n",
       "0     356        351\n",
       "1     357        360\n",
       "2     358         76\n",
       "3     359         57\n",
       "4     360         43"
      ]
     },
     "execution_count": 5,
     "metadata": {},
     "output_type": "execute_result"
    }
   ],
   "source": [
    "purchase_cnt_per_one.rename(columns={'resource_id': 'course','user_id':'purchases'}, inplace=True)\n",
    "purchase_cnt_per_one.head()"
   ]
  },
  {
   "cell_type": "code",
   "execution_count": 6,
   "id": "7f1b519a",
   "metadata": {},
   "outputs": [
    {
     "data": {
      "text/html": [
       "<div>\n",
       "<style scoped>\n",
       "    .dataframe tbody tr th:only-of-type {\n",
       "        vertical-align: middle;\n",
       "    }\n",
       "\n",
       "    .dataframe tbody tr th {\n",
       "        vertical-align: top;\n",
       "    }\n",
       "\n",
       "    .dataframe thead th {\n",
       "        text-align: right;\n",
       "    }\n",
       "</style>\n",
       "<table border=\"1\" class=\"dataframe\">\n",
       "  <thead>\n",
       "    <tr style=\"text-align: right;\">\n",
       "      <th></th>\n",
       "      <th>index</th>\n",
       "      <th>resource_id</th>\n",
       "    </tr>\n",
       "  </thead>\n",
       "  <tbody>\n",
       "    <tr>\n",
       "      <th>0</th>\n",
       "      <td>0</td>\n",
       "      <td>[(516, 1099)]</td>\n",
       "    </tr>\n",
       "    <tr>\n",
       "      <th>1</th>\n",
       "      <td>1</td>\n",
       "      <td>[(356, 357), (356, 1125), (357, 1125)]</td>\n",
       "    </tr>\n",
       "    <tr>\n",
       "      <th>2</th>\n",
       "      <td>2</td>\n",
       "      <td>[(553, 1147)]</td>\n",
       "    </tr>\n",
       "    <tr>\n",
       "      <th>3</th>\n",
       "      <td>3</td>\n",
       "      <td>[(361, 1138)]</td>\n",
       "    </tr>\n",
       "    <tr>\n",
       "      <th>4</th>\n",
       "      <td>4</td>\n",
       "      <td>[(356, 357)]</td>\n",
       "    </tr>\n",
       "  </tbody>\n",
       "</table>\n",
       "</div>"
      ],
      "text/plain": [
       "   index                             resource_id\n",
       "0      0                           [(516, 1099)]\n",
       "1      1  [(356, 357), (356, 1125), (357, 1125)]\n",
       "2      2                           [(553, 1147)]\n",
       "3      3                           [(361, 1138)]\n",
       "4      4                            [(356, 357)]"
      ]
     },
     "execution_count": 6,
     "metadata": {},
     "output_type": "execute_result"
    }
   ],
   "source": [
    "# составляем парные комбинации курсов:\n",
    "a = course_lists['resource_id'].apply(lambda x: list(itertools.combinations(x, 2))).reset_index()\n",
    "a.head()"
   ]
  },
  {
   "cell_type": "code",
   "execution_count": 7,
   "id": "f461420c",
   "metadata": {},
   "outputs": [
    {
     "data": {
      "text/plain": [
       "40017"
      ]
     },
     "execution_count": 7,
     "metadata": {},
     "output_type": "execute_result"
    }
   ],
   "source": [
    "# формируем список всех возможных пар курсов\n",
    "q=[]\n",
    "for row in a['resource_id']:\n",
    "    for elem in row:\n",
    "        q.append(elem)\n",
    "len(q)"
   ]
  },
  {
   "cell_type": "code",
   "execution_count": 8,
   "id": "c4cb8108",
   "metadata": {},
   "outputs": [
    {
     "data": {
      "text/html": [
       "<div>\n",
       "<style scoped>\n",
       "    .dataframe tbody tr th:only-of-type {\n",
       "        vertical-align: middle;\n",
       "    }\n",
       "\n",
       "    .dataframe tbody tr th {\n",
       "        vertical-align: top;\n",
       "    }\n",
       "\n",
       "    .dataframe thead th {\n",
       "        text-align: right;\n",
       "    }\n",
       "</style>\n",
       "<table border=\"1\" class=\"dataframe\">\n",
       "  <thead>\n",
       "    <tr style=\"text-align: right;\">\n",
       "      <th></th>\n",
       "      <th>courses</th>\n",
       "      <th>index</th>\n",
       "    </tr>\n",
       "  </thead>\n",
       "  <tbody>\n",
       "    <tr>\n",
       "      <th>0</th>\n",
       "      <td>(516, 1099)</td>\n",
       "      <td>0</td>\n",
       "    </tr>\n",
       "    <tr>\n",
       "      <th>1</th>\n",
       "      <td>(356, 357)</td>\n",
       "      <td>1</td>\n",
       "    </tr>\n",
       "    <tr>\n",
       "      <th>2</th>\n",
       "      <td>(356, 1125)</td>\n",
       "      <td>2</td>\n",
       "    </tr>\n",
       "    <tr>\n",
       "      <th>3</th>\n",
       "      <td>(357, 1125)</td>\n",
       "      <td>3</td>\n",
       "    </tr>\n",
       "    <tr>\n",
       "      <th>4</th>\n",
       "      <td>(553, 1147)</td>\n",
       "      <td>4</td>\n",
       "    </tr>\n",
       "  </tbody>\n",
       "</table>\n",
       "</div>"
      ],
      "text/plain": [
       "       courses  index\n",
       "0  (516, 1099)      0\n",
       "1   (356, 357)      1\n",
       "2  (356, 1125)      2\n",
       "3  (357, 1125)      3\n",
       "4  (553, 1147)      4"
      ]
     },
     "execution_count": 8,
     "metadata": {},
     "output_type": "execute_result"
    }
   ],
   "source": [
    "# создаем датафрейм со списком пар\n",
    "list_index = list(range(0, 40017))\n",
    "df = pd.DataFrame(list(zip(q, list_index)), columns = ['courses', 'index']) \n",
    "df.head()"
   ]
  },
  {
   "cell_type": "code",
   "execution_count": 9,
   "id": "111dda2e",
   "metadata": {},
   "outputs": [
    {
     "data": {
      "text/html": [
       "<div>\n",
       "<style scoped>\n",
       "    .dataframe tbody tr th:only-of-type {\n",
       "        vertical-align: middle;\n",
       "    }\n",
       "\n",
       "    .dataframe tbody tr th {\n",
       "        vertical-align: top;\n",
       "    }\n",
       "\n",
       "    .dataframe thead th {\n",
       "        text-align: right;\n",
       "    }\n",
       "</style>\n",
       "<table border=\"1\" class=\"dataframe\">\n",
       "  <thead>\n",
       "    <tr style=\"text-align: right;\">\n",
       "      <th></th>\n",
       "      <th>courses</th>\n",
       "      <th>cnt</th>\n",
       "    </tr>\n",
       "  </thead>\n",
       "  <tbody>\n",
       "    <tr>\n",
       "      <th>0</th>\n",
       "      <td>(551, 566)</td>\n",
       "      <td>797</td>\n",
       "    </tr>\n",
       "    <tr>\n",
       "      <th>1</th>\n",
       "      <td>(515, 551)</td>\n",
       "      <td>417</td>\n",
       "    </tr>\n",
       "    <tr>\n",
       "      <th>2</th>\n",
       "      <td>(489, 551)</td>\n",
       "      <td>311</td>\n",
       "    </tr>\n",
       "    <tr>\n",
       "      <th>3</th>\n",
       "      <td>(523, 551)</td>\n",
       "      <td>304</td>\n",
       "    </tr>\n",
       "    <tr>\n",
       "      <th>4</th>\n",
       "      <td>(566, 794)</td>\n",
       "      <td>290</td>\n",
       "    </tr>\n",
       "  </tbody>\n",
       "</table>\n",
       "</div>"
      ],
      "text/plain": [
       "      courses  cnt\n",
       "0  (551, 566)  797\n",
       "1  (515, 551)  417\n",
       "2  (489, 551)  311\n",
       "3  (523, 551)  304\n",
       "4  (566, 794)  290"
      ]
     },
     "execution_count": 9,
     "metadata": {},
     "output_type": "execute_result"
    }
   ],
   "source": [
    "# составляем таблицу с частотностью пар курсов\n",
    "val_cnt = df['courses'].value_counts().reset_index()\n",
    "val_cnt.rename(columns={'index':'courses','courses':'cnt'}, inplace=True) \n",
    "val_cnt.head()"
   ]
  },
  {
   "cell_type": "markdown",
   "id": "9a77b85d",
   "metadata": {},
   "source": [
    "### Обратим внимание также на тот факт, что одна из рекомендаций может встречаться слишком редко, поэтому следует выбрать в качестве рекомендации более популярный курс"
   ]
  },
  {
   "cell_type": "code",
   "execution_count": 11,
   "id": "14b5bd53",
   "metadata": {},
   "outputs": [
    {
     "data": {
      "image/png": "[encoded data removed]",
      "text/plain": [
       "<Figure size 640x480 with 1 Axes>"
      ]
     },
     "metadata": {},
     "output_type": "display_data"
    }
   ],
   "source": [
    "# строим гистограмму распределения покупок курсов\n",
    "ax = sns.histplot(\n",
    "    data=val_cnt,\n",
    "    x=val_cnt['cnt'],\n",
    "    kde=True    \n",
    ")\n",
    "ax.set (xlabel='Число покупок курса',\n",
    " ylabel='Частота',\n",
    " title='Распределение количества покупок курсов') \n",
    "plt.show() "
   ]
  },
  {
   "cell_type": "code",
   "execution_count": 12,
   "id": "46227182",
   "metadata": {},
   "outputs": [
    {
     "data": {
      "text/plain": [
       "count    3989.000000\n",
       "mean       10.031838\n",
       "std        26.355998\n",
       "min         1.000000\n",
       "25%         1.000000\n",
       "50%         3.000000\n",
       "75%         9.000000\n",
       "max       797.000000\n",
       "Name: cnt, dtype: float64"
      ]
     },
     "execution_count": 12,
     "metadata": {},
     "output_type": "execute_result"
    }
   ],
   "source": [
    "val_cnt['cnt'].describe()"
   ]
  },
  {
   "cell_type": "markdown",
   "id": "c2ed7589",
   "metadata": {},
   "source": [
    "#### Так как распределение ненормальное, большинство пар курсов покупали в количестве не больше 64, то за нижнюю гарницу беру значение медианы - 3, то есть если пару курсов покупали меньше 3 раз, то за пару не считаем и рекомендуем по альтернативной системе\n",
    "\n",
    "За альтернативную систему рекомендаций предлагаю считать два самых популярных курса "
   ]
  },
  {
   "cell_type": "code",
   "execution_count": 13,
   "id": "7a1d86b1",
   "metadata": {},
   "outputs": [
    {
     "data": {
      "text/html": [
       "<div>\n",
       "<style scoped>\n",
       "    .dataframe tbody tr th:only-of-type {\n",
       "        vertical-align: middle;\n",
       "    }\n",
       "\n",
       "    .dataframe tbody tr th {\n",
       "        vertical-align: top;\n",
       "    }\n",
       "\n",
       "    .dataframe thead th {\n",
       "        text-align: right;\n",
       "    }\n",
       "</style>\n",
       "<table border=\"1\" class=\"dataframe\">\n",
       "  <thead>\n",
       "    <tr style=\"text-align: right;\">\n",
       "      <th></th>\n",
       "      <th>course</th>\n",
       "      <th>purchases</th>\n",
       "    </tr>\n",
       "  </thead>\n",
       "  <tbody>\n",
       "    <tr>\n",
       "      <th>30</th>\n",
       "      <td>551</td>\n",
       "      <td>2935</td>\n",
       "    </tr>\n",
       "    <tr>\n",
       "      <th>36</th>\n",
       "      <td>566</td>\n",
       "      <td>2342</td>\n",
       "    </tr>\n",
       "  </tbody>\n",
       "</table>\n",
       "</div>"
      ],
      "text/plain": [
       "    course  purchases\n",
       "30     551       2935\n",
       "36     566       2342"
      ]
     },
     "execution_count": 13,
     "metadata": {},
     "output_type": "execute_result"
    }
   ],
   "source": [
    "purchase_cnt_per_one = purchase_cnt_per_one.sort_values(by = 'purchases', ascending=False)\n",
    "purchase_cnt_per_one.head(2)\n",
    "# Самые популярные курсы - под номерами 551 и 566, их купили 2935 и 2342 раз соответственно.\n",
    "# Поэтому для слабых связей курсов (меньше 3 покупок), предлагаю рекомендовать эти два популярных курса."
   ]
  },
  {
   "cell_type": "code",
   "execution_count": 14,
   "id": "3da2e0b4",
   "metadata": {},
   "outputs": [],
   "source": [
    "# реализуем функцию рекомендаций (принимает на вход номер курса, возвращает 2 самых часто встречающихся с ним во всех парах курса)\n",
    "val_cnt= val_cnt.sort_values(by = 'cnt',ascending=False)\n",
    "# делим на таблицы с парами, имеющими три и более продаж, а также менее трех продаж:\n",
    "val_cnt_top = val_cnt[val_cnt['cnt']>=3]\n",
    "val_cnt_low = val_cnt[val_cnt['cnt']<3]\n",
    "\n",
    "# формируем списки с курсами:\n",
    "top = []\n",
    "for i in val_cnt_top['courses']:\n",
    "    for j in i:\n",
    "        top.append(j)\n",
    "\n",
    "low = []\n",
    "for i in val_cnt_low['courses']:\n",
    "    for j in i:\n",
    "        low.append(j)\n",
    "\n",
    "# реализуем функцию: \n",
    "def recomendation(course):\n",
    "    recs=[]\n",
    "    if course in top:\n",
    "        for index, value in enumerate(top):\n",
    "            if len(recs)==2:\n",
    "                return(recs)\n",
    "                break\n",
    "            else:\n",
    "                if value == course:\n",
    "                    if index%2==0:\n",
    "                        recs.append(top[index+1])\n",
    "                    else:\n",
    "                        recs.append(top[index-1])\n",
    "    else:\n",
    "        if course in low:\n",
    "            return([551,566]) \n"
   ]
  },
  {
   "cell_type": "code",
   "execution_count": 15,
   "id": "e092a4b1",
   "metadata": {},
   "outputs": [
    {
     "data": {
      "text/plain": [
       "[551, 523]"
      ]
     },
     "execution_count": 15,
     "metadata": {},
     "output_type": "execute_result"
    }
   ],
   "source": [
    "# проверяем работу функции\n",
    "recomendation(552)"
   ]
  },
  {
   "cell_type": "code",
   "execution_count": 16,
   "id": "a92a4561",
   "metadata": {},
   "outputs": [],
   "source": [
    "# формируем таблицу с уникальными курсами:\n",
    "courses = purchase_cnt_per_one.drop (columns=purchase_cnt_per_one.columns [1], axis= 1 )"
   ]
  },
  {
   "cell_type": "code",
   "execution_count": 17,
   "id": "489e1d59",
   "metadata": {},
   "outputs": [],
   "source": [
    "# реализуем цикл с применением функции recomendation ко всем уникальным курсам и записываем результат в датафрейм courses\n",
    "courses['recs'] = courses['course'].apply(lambda x: recomendation(x))"
   ]
  },
  {
   "cell_type": "code",
   "execution_count": 18,
   "id": "9f04aa32",
   "metadata": {},
   "outputs": [],
   "source": [
    "# разделяем стобец с рекомендациями на 2:\n",
    "courses['rec1']=courses['recs'].str.get(0)\n",
    "courses['rec2']=courses['recs'].str.get(1)"
   ]
  },
  {
   "cell_type": "code",
   "execution_count": 20,
   "id": "fb8ad16f",
   "metadata": {},
   "outputs": [
    {
     "data": {
      "text/html": [
       "<div>\n",
       "<style scoped>\n",
       "    .dataframe tbody tr th:only-of-type {\n",
       "        vertical-align: middle;\n",
       "    }\n",
       "\n",
       "    .dataframe tbody tr th {\n",
       "        vertical-align: top;\n",
       "    }\n",
       "\n",
       "    .dataframe thead th {\n",
       "        text-align: right;\n",
       "    }\n",
       "</style>\n",
       "<table border=\"1\" class=\"dataframe\">\n",
       "  <thead>\n",
       "    <tr style=\"text-align: right;\">\n",
       "      <th></th>\n",
       "      <th>course</th>\n",
       "      <th>rec1</th>\n",
       "      <th>rec2</th>\n",
       "    </tr>\n",
       "  </thead>\n",
       "  <tbody>\n",
       "    <tr>\n",
       "      <th>30</th>\n",
       "      <td>551</td>\n",
       "      <td>566.0</td>\n",
       "      <td>515.0</td>\n",
       "    </tr>\n",
       "    <tr>\n",
       "      <th>36</th>\n",
       "      <td>566</td>\n",
       "      <td>551.0</td>\n",
       "      <td>794.0</td>\n",
       "    </tr>\n",
       "    <tr>\n",
       "      <th>24</th>\n",
       "      <td>515</td>\n",
       "      <td>551.0</td>\n",
       "      <td>489.0</td>\n",
       "    </tr>\n",
       "    <tr>\n",
       "      <th>13</th>\n",
       "      <td>489</td>\n",
       "      <td>551.0</td>\n",
       "      <td>515.0</td>\n",
       "    </tr>\n",
       "    <tr>\n",
       "      <th>14</th>\n",
       "      <td>490</td>\n",
       "      <td>566.0</td>\n",
       "      <td>551.0</td>\n",
       "    </tr>\n",
       "  </tbody>\n",
       "</table>\n",
       "</div>"
      ],
      "text/plain": [
       "    course   rec1   rec2\n",
       "30     551  566.0  515.0\n",
       "36     566  551.0  794.0\n",
       "24     515  551.0  489.0\n",
       "13     489  551.0  515.0\n",
       "14     490  566.0  551.0"
      ]
     },
     "execution_count": 20,
     "metadata": {},
     "output_type": "execute_result"
    }
   ],
   "source": [
    "# Cоздаем итоговую таблицу с тремя столбцами, где:\n",
    "#1. Курс, к которому идёт рекомендация\n",
    "#2. Курс для рекомендации № 1 (самый популярный)\n",
    "#3. Курс для рекомендации № 2 (второй по популярности)\n",
    "\n",
    "recomendation_table = courses[['course','rec1','rec2']]\n",
    "recomendation_table.head()"
   ]
  },
  {
   "cell_type": "markdown",
   "id": "d119c20e",
   "metadata": {},
   "source": [
    "Все клиенты случайным образом делятся на контрольную и тестовую группы: тестовой группе показываются рекомендации, а контрольной — нет.\n",
    "\n",
    "До реализации рекомендаций средняя конверсия в покупку второго курса была 3,2%. \n",
    "\n",
    "Ожидается, что ввод рекомендаций сможет поднять её до 4%."
   ]
  },
  {
   "cell_type": "markdown",
   "id": "a493f6ed",
   "metadata": {},
   "source": [
    "#### Определим минимальный размер выборки для проведения теста при уровне достоверности 95% и статистической мощности 80% с помощью https://www.evanmiller.org/ab-testing/sample-size.html \n",
    "Ответ: 7,866 чел. для каждой группы"
   ]
  },
  {
   "cell_type": "markdown",
   "id": "14603d1a",
   "metadata": {},
   "source": [
    "## Оценка результатов\n",
    "В контрольной группе оказалось 8732 клиента, оформивших заказ, из них 293 купили больше одного курса.\n",
    "\n",
    "В тестовой — 8847 клиентов, из них 347 купили больше одного курса."
   ]
  },
  {
   "cell_type": "markdown",
   "id": "3fded071",
   "metadata": {},
   "source": [
    "Уровень значимости различий проверяем с помощью https://abtestguide.com/calc/"
   ]
  },
  {
   "cell_type": "markdown",
   "id": "208bb0b4",
   "metadata": {},
   "source": [
    "- Конверсия контрольной группы оказалась 3.36%\n",
    "- Конверсия экспермиентальной - 3.92%\n",
    "\n",
    "Конверсия экспермиентальной группы оказалась выше контрольной на уровне значимости 0.0224, что позволяет сделать следующий вывод:\n",
    "**рекомендации привели к статистически значимо лучшему результату, стоит реализовать их для всех клиентов**."
   ]
  },
  {
   "cell_type": "code",
   "execution_count": null,
   "id": "ea0b6f91",
   "metadata": {},
   "outputs": [],
   "source": []
  },
  {
   "cell_type": "code",
   "execution_count": null,
   "id": "8bbd2c67",
   "metadata": {},
   "outputs": [],
   "source": []
  }
 ],
 "metadata": {
  "kernelspec": {
   "display_name": "Python 3 (ipykernel)",
   "language": "python",
   "name": "python3"
  },
  "language_info": {
   "codemirror_mode": {
    "name": "ipython",
    "version": 3
   },
   "file_extension": ".py",
   "mimetype": "text/x-python",
   "name": "python",
   "nbconvert_exporter": "python",
   "pygments_lexer": "ipython3",
   "version": "3.10.10"
  }
 },
 "nbformat": 4,
 "nbformat_minor": 5
}
